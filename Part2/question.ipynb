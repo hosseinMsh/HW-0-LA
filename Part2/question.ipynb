{
 "cells": [
  {
   "cell_type": "markdown",
   "metadata": {},
   "source": [
    "<br>\n",
    "<font>\n",
    "<div dir=\"ltr\" align=\"center\">\n",
    "    <img src=\"https://cdn.freebiesupply.com/logos/large/2x/sharif-logo-png-transparent.png\" width=\"150\" height=\"150\">\n",
    "    <br>\n",
    "    <font color=\"#E74C3C\" size=\"7\" style=\"font-family:Arial, sans-serif;\">\n",
    "        Linear Algebra <br>\n",
    "    </font>\n",
    "    <font color=\"#2980B9\" size=\"5\" style=\"font-family:Arial, sans-serif;\">\n",
    "        DR Rabiee - DR Ramezani <br>\n",
    "    </font>\n",
    "    <font color=\"#2980B9\" size=\"5\" style=\"font-family:Arial, sans-serif;\">\n",
    "        Computer Engineering Department <br>\n",
    "    </font>\n",
    "    <font color=\"#1ABC9C\" size=\"5\" style=\"font-family:Arial, sans-serif;\">\n",
    "        Fall 2024 <br>\n",
    "    </font>\n",
    "    <font color=\"#16A085\" size=\"5\" style=\"font-family:Arial, sans-serif;\">\n",
    "        Practical Assignment 0 <br>\n",
    "    </font>\n",
    "    <font color=\"#7F8C8D\" size=\"4\" style=\"font-family:Arial, sans-serif;\">\n",
    "        Ali Bakhtiari - Armin Khosravi - Ali Najar\n",
    "    </font>\n",
    "</div>\n"
   ]
  },
  {
   "attachments": {},
   "cell_type": "markdown",
   "metadata": {
    "id": "rizeAPn-pe_s"
   },
   "source": [
    "<h1 align=center style=\"line-height:200%;font-family:vazir;color:#0099cc\">\n",
    "<font face=\"vazir\" color=\"#0099cc\">\n",
    "بخش اول(الماس های درخشان)</font>\n",
    "</h1>\n"
   ]
  },
  {
   "attachments": {},
   "cell_type": "markdown",
   "metadata": {
    "id": "30vPDJVPSS7M"
   },
   "source": [
    "<p dir=rtl style=\"direction: rtl;text-align: justify;line-height:200%;font-family:vazir;font-size:medium\">\n",
    "<font face=\"vazir\" size=3>\n",
    "مجموعه‌داده‌ای در اختیار شما قرار گذاشته شده که حاوی اطلاعات تعدادی الماس است. در این بخش شما باید با رسم نمودار، اطلاعاتی از الماس‌ها را به‌صورت خلاصه و مفید به‌ تصویر بکشید.\n",
    "</font>\n",
    "</p>\n"
   ]
  },
  {
   "cell_type": "markdown",
   "metadata": {},
   "source": [
    "<p dir=rtl style=\"direction: rtl;text-align: justify;line-height:200%;font-family:vazir;font-size:medium\">\n",
    "<font face=\"vazir\" size=3>\n",
    "در این تمرین هم از مت‌پلات و هم از سیبورن استفاده می‌کنیم.\n",
    "</font>\n",
    "</p>\n"
   ]
  },
  {
   "attachments": {},
   "cell_type": "markdown",
   "metadata": {},
   "source": [
    "<p dir=rtl style=\"direction: rtl;text-align: justify;line-height:200%;font-family:vazir;font-size:medium\">\n",
    "<font face=\"vazir\" size=3>\n",
    "\n",
    "</font>\n",
    "</p>\n"
   ]
  },
  {
   "cell_type": "code",
   "execution_count": 15,
   "metadata": {
    "id": "N-yLpau-zRUn"
   },
   "outputs": [],
   "source": [
    "import pandas as pd\n",
    "import matplotlib.pyplot as plt\n",
    "import seaborn as sns"
   ]
  },
  {
   "cell_type": "markdown",
   "metadata": {},
   "source": [
    "<h2 align=right style=\"line-height:200%;font-family:vazir;color:#0099cc\">\n",
    "<font face=\"vazir\" color=\"#0099cc\">\n",
    "مجموعه‌داده\n",
    "</font>\n",
    "</h2>"
   ]
  },
  {
   "attachments": {},
   "cell_type": "markdown",
   "metadata": {
    "id": "eHt3PRb_SljP"
   },
   "source": [
    "<p dir=\"rtl\" style=\"text-align: justify; line-height:200%; font-family:vazir; font-size:medium;\">\n",
    "  اطلاعات الماس‌ها در فایل <code>diamonds.csv</code> ‌ذخیره شده است. \n",
    "  بعد از خواندن دیتا ست به کمک دستور <code>head()</code> در pandas \n",
    "   سطرهای ابتدایی دیتا ست را نمایش دهید  \n",
    "    \n",
    "</p>\n"
   ]
  },
  {
   "cell_type": "code",
   "metadata": {
    "id": "xKj8TbtizYMB",
    "ExecuteTime": {
     "end_time": "2024-10-18T17:29:37.901097Z",
     "start_time": "2024-10-18T17:29:37.398056Z"
    }
   },
   "source": [
    "from pandas import read_csv\n",
    "import pandas as pd\n",
    "# df = read_csv('diamonds.csv') \n",
    "\n",
    "df = pd.read_csv('diamonds.csv',index_col=0)\n",
    "df.head()"
   ],
   "outputs": [
    {
     "data": {
      "text/plain": [
       "   carat      cut color clarity  depth  table  price     x     y     z\n",
       "1   0.23    Ideal     E     SI2   61.5   55.0    326  3.95  3.98  2.43\n",
       "2   0.21  Premium     E     SI1   59.8   61.0    326  3.89  3.84  2.31\n",
       "3   0.23     Good     E     VS1   56.9   65.0    327  4.05  4.07  2.31\n",
       "4   0.29  Premium     I     VS2   62.4   58.0    334  4.20  4.23  2.63\n",
       "5   0.31     Good     J     SI2   63.3   58.0    335  4.34  4.35  2.75"
      ],
      "text/html": [
       "<div>\n",
       "<style scoped>\n",
       "    .dataframe tbody tr th:only-of-type {\n",
       "        vertical-align: middle;\n",
       "    }\n",
       "\n",
       "    .dataframe tbody tr th {\n",
       "        vertical-align: top;\n",
       "    }\n",
       "\n",
       "    .dataframe thead th {\n",
       "        text-align: right;\n",
       "    }\n",
       "</style>\n",
       "<table border=\"1\" class=\"dataframe\">\n",
       "  <thead>\n",
       "    <tr style=\"text-align: right;\">\n",
       "      <th></th>\n",
       "      <th>carat</th>\n",
       "      <th>cut</th>\n",
       "      <th>color</th>\n",
       "      <th>clarity</th>\n",
       "      <th>depth</th>\n",
       "      <th>table</th>\n",
       "      <th>price</th>\n",
       "      <th>x</th>\n",
       "      <th>y</th>\n",
       "      <th>z</th>\n",
       "    </tr>\n",
       "  </thead>\n",
       "  <tbody>\n",
       "    <tr>\n",
       "      <th>1</th>\n",
       "      <td>0.23</td>\n",
       "      <td>Ideal</td>\n",
       "      <td>E</td>\n",
       "      <td>SI2</td>\n",
       "      <td>61.5</td>\n",
       "      <td>55.0</td>\n",
       "      <td>326</td>\n",
       "      <td>3.95</td>\n",
       "      <td>3.98</td>\n",
       "      <td>2.43</td>\n",
       "    </tr>\n",
       "    <tr>\n",
       "      <th>2</th>\n",
       "      <td>0.21</td>\n",
       "      <td>Premium</td>\n",
       "      <td>E</td>\n",
       "      <td>SI1</td>\n",
       "      <td>59.8</td>\n",
       "      <td>61.0</td>\n",
       "      <td>326</td>\n",
       "      <td>3.89</td>\n",
       "      <td>3.84</td>\n",
       "      <td>2.31</td>\n",
       "    </tr>\n",
       "    <tr>\n",
       "      <th>3</th>\n",
       "      <td>0.23</td>\n",
       "      <td>Good</td>\n",
       "      <td>E</td>\n",
       "      <td>VS1</td>\n",
       "      <td>56.9</td>\n",
       "      <td>65.0</td>\n",
       "      <td>327</td>\n",
       "      <td>4.05</td>\n",
       "      <td>4.07</td>\n",
       "      <td>2.31</td>\n",
       "    </tr>\n",
       "    <tr>\n",
       "      <th>4</th>\n",
       "      <td>0.29</td>\n",
       "      <td>Premium</td>\n",
       "      <td>I</td>\n",
       "      <td>VS2</td>\n",
       "      <td>62.4</td>\n",
       "      <td>58.0</td>\n",
       "      <td>334</td>\n",
       "      <td>4.20</td>\n",
       "      <td>4.23</td>\n",
       "      <td>2.63</td>\n",
       "    </tr>\n",
       "    <tr>\n",
       "      <th>5</th>\n",
       "      <td>0.31</td>\n",
       "      <td>Good</td>\n",
       "      <td>J</td>\n",
       "      <td>SI2</td>\n",
       "      <td>63.3</td>\n",
       "      <td>58.0</td>\n",
       "      <td>335</td>\n",
       "      <td>4.34</td>\n",
       "      <td>4.35</td>\n",
       "      <td>2.75</td>\n",
       "    </tr>\n",
       "  </tbody>\n",
       "</table>\n",
       "</div>"
      ]
     },
     "execution_count": 19,
     "metadata": {},
     "output_type": "execute_result"
    }
   ],
   "execution_count": 19
  },
  {
   "attachments": {},
   "cell_type": "markdown",
   "metadata": {},
   "source": [
    "<p dir=rtl style=\"direction: rtl;text-align: justify;line-height:200%;font-family:vazir;font-size:medium\">\n",
    "<font face=\"vazir\" size=3>\n",
    "در دیتافریم بالا، متغیرهای <code>depth</code> و <code>table</code> بر اساس طول و عرض و ارتفاع یک الماس محاسبه می‌شوند. برای آشنایی با آن‌ها می‌توانید به\n",
    " <a href=\"https://www.diamonds.pro/education/diamond-depth-and-table/\">این لینک</a>\n",
    " مراجعه کنید.\n",
    "متغیر <code>clarity</code> شفافیت یا پاکی الماس را با کد خاص نشان می‌دهد. برای آشنایی با این کد‌ها می‌توانید به \n",
    " <a href=\"https://www.bluenile.com/education/diamonds/clarity\">این لینک</a>\n",
    "مراجعه کنید.\n",
    "</font>\n",
    "</p>\n"
   ]
  },
  {
   "attachments": {},
   "cell_type": "markdown",
   "metadata": {
    "id": "tZ-PYtmJTneC"
   },
   "source": [
    "<h2 align=right style=\"line-height:200%;font-family:vazir;color:#0099cc\">\n",
    "<font face=\"vazir\" color=\"#0099cc\">\n",
    "کار با استایل‌ها\n",
    "</font>\n",
    "</h2>\n",
    "\n",
    "<p dir=rtl style=\"direction: rtl;text-align: justify;line-height:200%;font-family:vazir;font-size:medium\">\n",
    "<font face=\"vazir\" size=3>\n",
    "با استفاده از تابع <code>plt.style.use</code> می‌توان استایل مت‌پلات را عوض کرد. هنگام تغییر استایل، تنظیمات بسیاری از جمله رنگ زمینه، رنگ خطوط، رنگ و فونت نوشته‌ها و تنظیمات دیگری عوض می‌شوند و راه خوبی است تا بدون تغییر بسیاری از مقادیر پیش‌فرض، رنگ و لعاب اشکال خود را تغییر دهید. \n",
    "دقت کنید که باید پیش از کشیدن نمودار‌ها، استایل را تغییر دهید؛ پس از تغییر استایل، هر نموداری که می‌کشید با  استایل جدید کشیده می‌شود تا وقتی که استایل را دوباره عوض کنید.\n",
    "</font>\n",
    "</p>\n",
    "\n"
   ]
  },
  {
   "attachments": {},
   "cell_type": "markdown",
   "metadata": {
    "id": "XLUVmEP7bRPA"
   },
   "source": [
    "\n",
    "<h2 dir=rtl align=right style=\"line-height:200%;font-family:vazir;color:#0099cc\">\n",
    "<font face=\"vazir\" color=\"#0099cc\">\n",
    "بخش اول\n",
    "</font>\n",
    "</h2>\n",
    "<p dir=rtl align=right style=\"direction: rtl;text-align: justify;line-height:200%;font-family:vazir;font-size:medium\">\n",
    "<font face=\"vazir\" size=3>\n",
    "<ul dir=rtl style=\"direction: rtl;text-align: justify;line-height:200%;font-family:vazir;font-size:medium\">\n",
    "  <li>\n",
    "استایل را  <code>dark_background</code> قرار دهید.\n",
    "</li>\n",
    "\n",
    "  <li>\n",
    "با مت‌پلات، یک شکل شامل یک صفحه‌محور بسازید و اندازه‌ی طول و عرض آن را برابر با ۱۰ اینچ قرار دهید.\n",
    "</li>\n",
    "\n",
    "  <li>\n",
    "با استفاده از تابع <code>barplot</code> سیبورن، بر روی صفحه‌محوری که ساختید، یک نمودار میله‌ای بکشید. ورودی‌های این نمودار یک دیتافریم، متغیر محور ,<code>y</code>، متغیر محور <code>x</code> و متغیر <code>hue</code> می‌باشد.  \n",
    "</li>\n",
    "\n",
    "  <li>\n",
    "شما باید با توجه به شکل داده شده، پارامتر‌های <code>x</code> و <code>y</code> و <code>hue</code> را مقداردهی کنید.\n",
    "\n",
    "</li>\n",
    "\n",
    "\n",
    "</font>\n",
    "</p>\n",
    "\n",
    "\n"
   ]
  },
  {
   "attachments": {},
   "cell_type": "markdown",
   "metadata": {},
   "source": [
    "<h3 align=right style=\"line-height:200%;font-family:vazir;color:#0099cc\">\n",
    "<font face=\"vazir\" color=\"#0099cc\">\n",
    "توضیح نمودار\n",
    "</font>\n",
    "</h3>\n",
    "<p dir=rtl style=\"direction: rtl;text-align: justify;line-height:200%;font-family:vazir;font-size:medium\">\n",
    "<font face=\"vazir\" size=3>\n",
    "در این نمودار، برای هر نوع برش الماس، قیمت آن مشخص شده است. خط سیاهی که در بالای هر میله قرار دارد، بازه‌ی اطمینان آن مقدار را نشان می‌دهد. قیمت‌های متفاوتی در یک نوع برش وجود دارد و  سیبورن مقدار متوسط آن‌ها را لحاظ می‌کند و با خط سیاه، میزان پراکندگی این مقادیر مشخص می‌شود. همچنین در هر برش، داده‌ها بر اساس شفافیت هم تقسیم شده‌اند. این‌ کار با کمک متغیر <code>hue</code> مشخص شده است.\n",
    "</font>\n",
    "</p>\n"
   ]
  },
  {
   "cell_type": "code",
   "metadata": {
    "colab": {
     "base_uri": "https://localhost:8080/",
     "height": 626
    },
    "id": "aSuFamftzhju",
    "outputId": "3751cbcb-f058-4196-8431-bd3c4bdb0a9b",
    "ExecuteTime": {
     "end_time": "2024-10-18T17:46:36.885209Z",
     "start_time": "2024-10-18T17:46:35.223117Z"
    }
   },
   "source": [
    "import seaborn as sns\n",
    "import matplotlib.pyplot as plt\n",
    "import pandas as pd\n",
    "plt.style.use('dark_background')\n",
    "\n",
    "fig1 = plt.figure(figsize=(10, 10))\n",
    "\n",
    "axes1 = fig1.add_subplot()\n",
    "plt.grid(axis='x', linestyle='')\n",
    "\n",
    "axes1.set_title('fig1')\n",
    "axes1.set_xlabel('cut')\n",
    "axes1.set_ylabel('price')\n",
    "sns.barplot(x='cut', y='price',hue='color', data=df, ax=axes1)\n",
    "\n",
    "\n"
   ],
   "outputs": [
    {
     "data": {
      "text/plain": [
       "<Axes: title={'center': 'fig1'}, xlabel='cut', ylabel='price'>"
      ]
     },
     "execution_count": 46,
     "metadata": {},
     "output_type": "execute_result"
    },
    {
     "data": {
      "text/plain": [
       "<Figure size 1000x1000 with 1 Axes>"
      ],
      "image/png": "[encoded data removed]"
     },
     "metadata": {},
     "output_type": "display_data"
    }
   ],
   "execution_count": 46
  },
  {
   "attachments": {},
   "cell_type": "markdown",
   "metadata": {
    "id": "oKGtf0Cgl3-F"
   },
   "source": [
    "\n",
    "\n",
    "<h2 align=right style=\"line-height:200%;font-family:vazir;color:#0099cc\">\n",
    "<font face=\"vazir\" color=\"#0099cc\">\n",
    "کار با نمودار جعبه‌ای\n",
    "</font>\n",
    "</h2>\n",
    "<p dir=rtl style=\"direction: rtl;text-align: justify;line-height:200%;font-family:vazir;font-size:medium\">\n",
    "<font face=\"vazir\" size=3>\n",
    "نمودار جعبه‌ای یکی از روش‌های قدیمی برای نمایش توزیع داده و شناسایی داده‌های پرت می‌باشد.  برای رسم این نمودار به چارک اول و سوم و میانه‌ی داده‌ها نیاز است. حد بالا و پایین با ضرب یک ثابت در فاصله‌ی میان دو چارک محاسبه می‌شود و ثابت انتخابی، بستگی به نوع مسئله و نحوه‌ی پخش داده‌های پرت بستگی دارد.\n",
    "</font>\n",
    "</p>\n",
    "\n"
   ]
  },
  {
   "attachments": {},
   "cell_type": "markdown",
   "metadata": {
    "id": "oZUf2Psil5Q0"
   },
   "source": [
    "<p style=\"text-align:center;\"><img src=\"boxplot.png\"></p>\n"
   ]
  },
  {
   "attachments": {},
   "cell_type": "markdown",
   "metadata": {
    "id": "JqF2ctV6gZ6w"
   },
   "source": [
    "<h2 align=right style=\"line-height:200%;font-family:vazir;color:#0099cc\">\n",
    "<font face=\"vazir\" color=\"#0099cc\">\n",
    "قدم دوم</font>\n",
    "</h2>\n",
    "<p dir=rtl style=\"direction: rtl;text-align: justify;line-height:200%;font-family:vazir;font-size:medium\">\n",
    "<font face=\"vazir\" size=3>\n",
    "  <ul dir=rtl style=\"direction: rtl;text-align: justify;line-height:200%;font-family:vazir;font-size:medium\">\n",
    "  <li>\n",
    "  استایل را برابر را <code>ggplot</code> قرار دهید.\n",
    "  </li>\n",
    "\n",
    "  <li>\n",
    "  با مت‌پلات، یک شکل شامل یک صفحه‌محور بسازید و اندازه طول و عرض آن را برابر با ۱۰ اینچ قرار دهید.\n",
    "  </li>\n",
    "\n",
    "  <li>\n",
    "  با استفاده از تابع <code>boxplot</code> سیبورن، یک سری نمودار جعبه‌ای تولید کنید و بر روی صفحه‌محوری که ساخته‌اید رسم کنید. این‌ بار از ویژگی <code>hue</code> استفاده نمی‌کنیم و فقط دو متغیر را بررسی می کنیم.\n",
    "\n",
    "  </li>\n",
    "  <br>\n",
    "</font>\n",
    "</p>\n"
   ]
  },
  {
   "attachments": {},
   "cell_type": "markdown",
   "metadata": {},
   "source": [
    "\n",
    "\n",
    "<h3 align=right style=\"line-height:200%;font-family:vazir;color:#0099cc\">\n",
    "<font face=\"vazir\" color=\"#0099cc\">\n",
    "توضیح نمودار</font>\n",
    "</h3>\n",
    "<p dir=rtl style=\"direction: rtl;text-align: justify;line-height:200%;font-family:vazir;font-size:medium\">\n",
    "<font face=\"vazir\" size=3>\n",
    "این‌‌بار با استفاده از نمودار جعبه‌ای رابطه‌ی بین شفافیت الماس و قیمت الماس مشخص شده است. برای هر نوع شفافیت یک نمودار جعبه‌ای کشیده شده است. \n",
    "</font>\n",
    "</p>\n",
    "\n",
    "\n"
   ]
  },
  {
   "cell_type": "code",
   "metadata": {
    "colab": {
     "base_uri": "https://localhost:8080/",
     "height": 626
    },
    "id": "Q08I5VP21Hmk",
    "outputId": "3d116256-73ac-41cb-8b4d-348245c66f0b",
    "ExecuteTime": {
     "end_time": "2024-10-18T17:53:28.351468Z",
     "start_time": "2024-10-18T17:53:27.978976Z"
    }
   },
   "source": [
    "plt.style.use('ggplot')\n",
    "fig2 = plt.figure(figsize=(10, 10))\n",
    "axes2 = fig2.add_subplot()\n",
    "sns.boxplot(x='clarity', y='price', data=df)\n"
   ],
   "outputs": [
    {
     "data": {
      "text/plain": [
       "<Axes: xlabel='clarity', ylabel='price'>"
      ]
     },
     "execution_count": 50,
     "metadata": {},
     "output_type": "execute_result"
    },
    {
     "data": {
      "text/plain": [
       "<Figure size 1000x1000 with 1 Axes>"
      ],
      "image/png": "[encoded data removed]"
     },
     "metadata": {},
     "output_type": "display_data"
    }
   ],
   "execution_count": 50
  },
  {
   "cell_type": "markdown",
   "metadata": {},
   "source": [
    "<div align=center style=\"line-height:200%;font-family:vazir;font-size:medium;color:#0099cc\">\n",
    "<h1>\n",
    "بخش دوم(یونیدرو)\n",
    "</h1>\n",
    "</p>\n",
    "</div>\n",
    "\n",
    "<h2 align=right style=\"direction: rtl; text-align: right; line-height:200%;font-family:vazir;color:#0099cc\">\n",
    "آشنایی با نقشه‌ی حرارتی (Heatmap)\n",
    "</h2>\n",
    "<div style=\"line-height:200%;font-family:vazir;font-size:medium\">\n",
    "<p style=\"direction: rtl;text-align: justify;\">\n",
    "نقشه‌ی حرارتی روشی برای نمایش داده‌ها در امور تحلیل داده‌ای می‌باشد که در آن رنگ‌ها متناسب با بزرگی و کوچکی اعداد تغییر می‌کنند. در نقشه‌های حرارتی، از یک تابع نگاشت رنگ (color map) برای تبدیل اعداد به رنگ‌ها استفاده می‌شود. نقشه‌ی حرارتی کاربرد‌های بسیاری دارد و در حوزه‌های مختلفی می‌توان برای نمایش اطلاعات از آن استفاده کرد. محققان داده معمولاً هنگامی‌که می‌خواهند نتایج کار را به شکلی قابل فهم به افراد غیر‌متخصص نشان دهند از نقشه‌ی حرارتی استفاده می‌کند. فرض کنید یک مجموعه‌داده‌ی بزرگ در اختیار دارید و رابطه‌ی همه‌ی ستون‌ها را با هم به‌صورت یک‌به‌یک محاسبه کرده‌اید. اگر بخواهید نتایج به‌دست‌آمده را به فرد دیگری نشان دهید، ارائه‌ی تمام اعداد راه‌‌حل ساده‌ای نمی‌باشد. به جای آن، می‌توان یک نقشه‌ی حرارتی ایجاد کرد که با یک نگاه به آن، خیلی سریع متغیر‌های به‌هم‌وابسته شناسایی می‌شوند چون رنگ آنها متفاوت است. در این تمرین با استفاده از نقشه‌ی حرارتی رابطه بین عناصر مختلف در این مجموعه‌داده را مشخص می‌کنیم.\n",
    "</p>\n",
    "</div>\n"
   ]
  },
  {
   "cell_type": "markdown",
   "metadata": {},
   "source": [
    "<h2 align=right style=\"direction: rtl; text-align: right; line-height:200%;font-family:vazir;color:#0099cc\">\n",
    "توضیحات دیتاست\n",
    "</h2>\n",
    "\n",
    "<div style=\"line-height:200%;font-family:vazir;font-size:medium\">\n",
    "<p style=\"direction: rtl;text-align: justify;\">\n",
    "\n",
    "<div style=\"line-height:200%;font-family:vazir;font-size:medium\">\n",
    "<p style=\"direction: rtl;text-align: justify;\">\n",
    "داده‌های این تمرین، از اطلاعات واقعی عناصر و عیار آن‌ها که شرکت یونیدرو از آن‌ها استفاده می‌کند، به‌‌دست‌ آمده است. در صنایع معدن، نمونه‌های یک گرمی را با دستگاهی به نام <i>ICP-OES</i>\n",
    " مورد بررسی قرار می‌دهند و دستگاه، غلظت عناصر موجود در آن نمونه‌ی یک‌گرمی را به ما می‌دهد. واحد غلظت، <i>ppm (part per million)</i> می‌باشد. در این دیتافریم، ۱۲۲۶ نمونه‌ی یک‌گرمی مورد بررسی قرار گرفته‌اند و غلظت عناصر مورد نظر ما (۳۱ عنصر)، به‌‌دست‌ آمده‌اند. در این تمرین، می‌خواهیم بررسی کنیم که آیا رابطه‌ی معناداری بین عیار عناصر وجود دارد یا خیر. یعنی با افزایش یک عنصر در یک نمونه، چه عناصری کاهش یا افزایش می‌یابند.\n",
    "</p>\n",
    "</div>\n",
    "</p>\n",
    "</div>"
   ]
  },
  {
   "cell_type": "markdown",
   "metadata": {},
   "source": [
    "<h2 align=right style=\"direction: rtl; text-align: right; line-height:200%;font-family:vazir;color:#0099cc\">\n",
    "مجموعه‌داده\n",
    "</h2>\n",
    "\n",
    "<div style=\"line-height:200%;font-family:vazir;font-size:medium\">\n",
    "<p style=\"direction: rtl;text-align: justify;\">\n",
    "داده‌های این تمرین در فایل <code>unidro_data.csv</code> قرار گرفته است. ابتدا این فایل را به‌شکل یک دیتافریم خوانده و نگاهی به آن بیندازیم.\n",
    "</p>\n",
    "</div>"
   ]
  },
  {
   "cell_type": "code",
   "metadata": {
    "ExecuteTime": {
     "end_time": "2024-10-18T17:56:30.474467Z",
     "start_time": "2024-10-18T17:56:28.912928Z"
    }
   },
   "source": [
    "# TODO\n",
    "df = pd.read_csv('unidro_data.csv')\n",
    "df.head()"
   ],
   "outputs": [
    {
     "data": {
      "text/plain": [
       "    Au8  Au8_CN     Au    Ag     Al     As   B   Ba    Ca   Ce  ...     P  \\\n",
       "0  0.67   32.40  2.068   1.7   5300    649  12  205   300   97  ...   900   \n",
       "1  0.08    8.82  0.907   0.8   6900    451  13  345   400  103  ...  1180   \n",
       "2  0.04    6.80  0.588   0.9   6900   1007  17  210   400   98  ...   990   \n",
       "3  0.55    7.00  7.855   1.1  10600  19627  13  140   500   94  ...  1240   \n",
       "4  0.15   20.60  0.728  21.3   7900   5776  14  123  1800   75  ...  1430   \n",
       "\n",
       "      Pb      S    Sb  Sr  Th  Ti   V   Y    Zn  \n",
       "0   1227  27600   592  16  22  18  10  21   388  \n",
       "1    251  17600   237  20  22  19   9  18   567  \n",
       "2    121  17700   317  18  22  22  10  17   552  \n",
       "3    158  37300  1454  25  24  22  18  21  5965  \n",
       "4  17270  69700   582  28  19  20  10  20  1394  \n",
       "\n",
       "[5 rows x 31 columns]"
      ],
      "text/html": [
       "<div>\n",
       "<style scoped>\n",
       "    .dataframe tbody tr th:only-of-type {\n",
       "        vertical-align: middle;\n",
       "    }\n",
       "\n",
       "    .dataframe tbody tr th {\n",
       "        vertical-align: top;\n",
       "    }\n",
       "\n",
       "    .dataframe thead th {\n",
       "        text-align: right;\n",
       "    }\n",
       "</style>\n",
       "<table border=\"1\" class=\"dataframe\">\n",
       "  <thead>\n",
       "    <tr style=\"text-align: right;\">\n",
       "      <th></th>\n",
       "      <th>Au8</th>\n",
       "      <th>Au8_CN</th>\n",
       "      <th>Au</th>\n",
       "      <th>Ag</th>\n",
       "      <th>Al</th>\n",
       "      <th>As</th>\n",
       "      <th>B</th>\n",
       "      <th>Ba</th>\n",
       "      <th>Ca</th>\n",
       "      <th>Ce</th>\n",
       "      <th>...</th>\n",
       "      <th>P</th>\n",
       "      <th>Pb</th>\n",
       "      <th>S</th>\n",
       "      <th>Sb</th>\n",
       "      <th>Sr</th>\n",
       "      <th>Th</th>\n",
       "      <th>Ti</th>\n",
       "      <th>V</th>\n",
       "      <th>Y</th>\n",
       "      <th>Zn</th>\n",
       "    </tr>\n",
       "  </thead>\n",
       "  <tbody>\n",
       "    <tr>\n",
       "      <th>0</th>\n",
       "      <td>0.67</td>\n",
       "      <td>32.40</td>\n",
       "      <td>2.068</td>\n",
       "      <td>1.7</td>\n",
       "      <td>5300</td>\n",
       "      <td>649</td>\n",
       "      <td>12</td>\n",
       "      <td>205</td>\n",
       "      <td>300</td>\n",
       "      <td>97</td>\n",
       "      <td>...</td>\n",
       "      <td>900</td>\n",
       "      <td>1227</td>\n",
       "      <td>27600</td>\n",
       "      <td>592</td>\n",
       "      <td>16</td>\n",
       "      <td>22</td>\n",
       "      <td>18</td>\n",
       "      <td>10</td>\n",
       "      <td>21</td>\n",
       "      <td>388</td>\n",
       "    </tr>\n",
       "    <tr>\n",
       "      <th>1</th>\n",
       "      <td>0.08</td>\n",
       "      <td>8.82</td>\n",
       "      <td>0.907</td>\n",
       "      <td>0.8</td>\n",
       "      <td>6900</td>\n",
       "      <td>451</td>\n",
       "      <td>13</td>\n",
       "      <td>345</td>\n",
       "      <td>400</td>\n",
       "      <td>103</td>\n",
       "      <td>...</td>\n",
       "      <td>1180</td>\n",
       "      <td>251</td>\n",
       "      <td>17600</td>\n",
       "      <td>237</td>\n",
       "      <td>20</td>\n",
       "      <td>22</td>\n",
       "      <td>19</td>\n",
       "      <td>9</td>\n",
       "      <td>18</td>\n",
       "      <td>567</td>\n",
       "    </tr>\n",
       "    <tr>\n",
       "      <th>2</th>\n",
       "      <td>0.04</td>\n",
       "      <td>6.80</td>\n",
       "      <td>0.588</td>\n",
       "      <td>0.9</td>\n",
       "      <td>6900</td>\n",
       "      <td>1007</td>\n",
       "      <td>17</td>\n",
       "      <td>210</td>\n",
       "      <td>400</td>\n",
       "      <td>98</td>\n",
       "      <td>...</td>\n",
       "      <td>990</td>\n",
       "      <td>121</td>\n",
       "      <td>17700</td>\n",
       "      <td>317</td>\n",
       "      <td>18</td>\n",
       "      <td>22</td>\n",
       "      <td>22</td>\n",
       "      <td>10</td>\n",
       "      <td>17</td>\n",
       "      <td>552</td>\n",
       "    </tr>\n",
       "    <tr>\n",
       "      <th>3</th>\n",
       "      <td>0.55</td>\n",
       "      <td>7.00</td>\n",
       "      <td>7.855</td>\n",
       "      <td>1.1</td>\n",
       "      <td>10600</td>\n",
       "      <td>19627</td>\n",
       "      <td>13</td>\n",
       "      <td>140</td>\n",
       "      <td>500</td>\n",
       "      <td>94</td>\n",
       "      <td>...</td>\n",
       "      <td>1240</td>\n",
       "      <td>158</td>\n",
       "      <td>37300</td>\n",
       "      <td>1454</td>\n",
       "      <td>25</td>\n",
       "      <td>24</td>\n",
       "      <td>22</td>\n",
       "      <td>18</td>\n",
       "      <td>21</td>\n",
       "      <td>5965</td>\n",
       "    </tr>\n",
       "    <tr>\n",
       "      <th>4</th>\n",
       "      <td>0.15</td>\n",
       "      <td>20.60</td>\n",
       "      <td>0.728</td>\n",
       "      <td>21.3</td>\n",
       "      <td>7900</td>\n",
       "      <td>5776</td>\n",
       "      <td>14</td>\n",
       "      <td>123</td>\n",
       "      <td>1800</td>\n",
       "      <td>75</td>\n",
       "      <td>...</td>\n",
       "      <td>1430</td>\n",
       "      <td>17270</td>\n",
       "      <td>69700</td>\n",
       "      <td>582</td>\n",
       "      <td>28</td>\n",
       "      <td>19</td>\n",
       "      <td>20</td>\n",
       "      <td>10</td>\n",
       "      <td>20</td>\n",
       "      <td>1394</td>\n",
       "    </tr>\n",
       "  </tbody>\n",
       "</table>\n",
       "<p>5 rows × 31 columns</p>\n",
       "</div>"
      ]
     },
     "execution_count": 51,
     "metadata": {},
     "output_type": "execute_result"
    }
   ],
   "execution_count": 51
  },
  {
   "cell_type": "markdown",
   "metadata": {},
   "source": [
    "<h2 align=\"right\" style=\"line-height:200%; font-family:vazir; color:#0099cc\">\n",
    "  قسمت اول\n",
    "</h2>\n",
    "\n",
    "<div style=\"line-height:200%; font-family:vazir; font-size:medium\">\n",
    "  <ul style=\"direction: rtl; text-align: justify;\">\n",
    "    <li>ابعاد دیتا فرم خوانده شده را چاب کنید</li>\n",
    "    <li>۱۰ سطر ابتدایی و انتهایی دیتا فریم را چاب کنید</li>\n",
    "    <li>ماتریس هم‌بستگی (correlation) بین ستون‌های این دیتافریم را به‌دست آورید.</li>\n",
    "  </ul>\n",
    "</div>\n"
   ]
  },
  {
   "cell_type": "code",
   "metadata": {
    "ExecuteTime": {
     "end_time": "2024-10-18T18:03:31.128187Z",
     "start_time": "2024-10-18T18:03:31.104618Z"
    }
   },
   "source": [
    "#TODO\n",
    "print(df.shape)\n",
    "print(df.head(10))\n",
    "\n",
    "print(df.tail(10))\n",
    "corr_matrix = df.corr()\n",
    "print(corr_matrix)"
   ],
   "outputs": [
    {
     "name": "stdout",
     "output_type": "stream",
     "text": [
      "(1226, 31)\n",
      "    Au8  Au8_CN     Au    Ag     Al     As   B   Ba    Ca   Ce  ...     P  \\\n",
      "0  0.67   32.40  2.068   1.7   5300    649  12  205   300   97  ...   900   \n",
      "1  0.08    8.82  0.907   0.8   6900    451  13  345   400  103  ...  1180   \n",
      "2  0.04    6.80  0.588   0.9   6900   1007  17  210   400   98  ...   990   \n",
      "3  0.55    7.00  7.855   1.1  10600  19627  13  140   500   94  ...  1240   \n",
      "4  0.15   20.60  0.728  21.3   7900   5776  14  123  1800   75  ...  1430   \n",
      "5  0.29   17.63  1.645   0.8   8700  21955  16  189  2900  113  ...  1520   \n",
      "6  0.19    7.77  2.446   0.8   5200   7377  15  121   900  107  ...  1180   \n",
      "7  0.17    7.98  2.131   1.6   2500   4317  12  366  4200  124  ...   950   \n",
      "8  0.08    4.08  1.960   0.8   3400   5156  23  228  5700  116  ...  1020   \n",
      "9  0.25   38.58  0.648   0.8   4200   8035  25  199  8800   85  ...  1020   \n",
      "\n",
      "      Pb      S    Sb  Sr  Th  Ti   V   Y    Zn  \n",
      "0   1227  27600   592  16  22  18  10  21   388  \n",
      "1    251  17600   237  20  22  19   9  18   567  \n",
      "2    121  17700   317  18  22  22  10  17   552  \n",
      "3    158  37300  1454  25  24  22  18  21  5965  \n",
      "4  17270  69700   582  28  19  20  10  20  1394  \n",
      "5    247  32900  1944  45  21  29  17  22   623  \n",
      "6    180  28200   418  31  22  32  10  13   322  \n",
      "7    384  26700  1033  33  25  21   8   8   105  \n",
      "8    219  25000   193  41  23  21   7   9   144  \n",
      "9    359  23500   151  29  21  27   8   8    85  \n",
      "\n",
      "[10 rows x 31 columns]\n",
      "       Au8  Au8_CN     Au   Ag    Al     As   B   Ba   Ca   Ce  ...    P  \\\n",
      "1216  3.28   64.06   5.12  0.9  4100   1092   8  541  400  137  ...  570   \n",
      "1217  1.03   46.82   2.20  2.9  9400   2478  18  315  900  123  ...  930   \n",
      "1218  4.51   64.80   6.96  1.1  7300   3147  21  677  900  120  ...  360   \n",
      "1219  0.66   39.52   1.67  0.7  6500    930  13  531  400  105  ...  240   \n",
      "1220  0.72   41.62   1.73  2.3  4200    805  11  155  300   63  ...  690   \n",
      "1221  0.45   64.29   0.70  0.8  3100    398  14  137  200   71  ...  430   \n",
      "1222  0.44   58.67   0.75  0.6  3800    578  11  505  300   89  ...  510   \n",
      "1223  1.46   56.81   2.57  0.5  4800    929  14  492  300   96  ...  310   \n",
      "1224  2.23   16.09  13.86  2.5  3600  11892   6  190  200   97  ...  710   \n",
      "1225  0.34   30.09   1.13  0.5  3000    297  12  285  200  118  ...  500   \n",
      "\n",
      "        Pb      S    Sb   Sr  Th  Ti   V   Y   Zn  \n",
      "1216   158  12700   298  133  26  13   9   8   84  \n",
      "1217  4692  15100   581  233  18  14  13  13   39  \n",
      "1218  3338   9400  1103  112  19  14  16   9   68  \n",
      "1219   106  15100   397   79  20  14   9  13  206  \n",
      "1220  2946  32000   459  111  21  12   9   6   81  \n",
      "1221   214  25700   231  130  20  16   7   5   54  \n",
      "1222   130  11100   168  159  21  12   8   6   46  \n",
      "1223    71  12400   132   70  22  13   7   8  140  \n",
      "1224    58  23100  5131   45  20  10  19   6   29  \n",
      "1225   286  19200   152   32  23  14   6   6   49  \n",
      "\n",
      "[10 rows x 31 columns]\n",
      "             Au8    Au8_CN        Au        Ag        Al        As         B  \\\n",
      "Au8     1.000000  0.295985  0.862428  0.086993 -0.038212 -0.022517 -0.065709   \n",
      "Au8_CN  0.295985  1.000000  0.128600  0.137364  0.054848 -0.101090 -0.035020   \n",
      "Au      0.862428  0.128600  1.000000  0.066124 -0.053453  0.066559 -0.108602   \n",
      "Ag      0.086993  0.137364  0.066124  1.000000 -0.041020  0.044027 -0.047508   \n",
      "Al     -0.038212  0.054848 -0.053453 -0.041020  1.000000  0.059256  0.189981   \n",
      "As     -0.022517 -0.101090  0.066559  0.044027  0.059256  1.000000 -0.038941   \n",
      "B      -0.065709 -0.035020 -0.108602 -0.047508  0.189981 -0.038941  1.000000   \n",
      "Ba      0.008831  0.214636 -0.080027 -0.052796  0.159632 -0.202814  0.070111   \n",
      "Ca     -0.048206 -0.234587 -0.051858 -0.052954 -0.121744 -0.085501  0.158857   \n",
      "Ce      0.027005 -0.028041  0.007717 -0.107657  0.188501 -0.182963 -0.004182   \n",
      "Co      0.002751  0.050234  0.007716  0.119630  0.249049  0.027054  0.008394   \n",
      "Cr      0.002867  0.143436 -0.035878  0.001239  0.103466 -0.040672  0.064196   \n",
      "Cu      0.003337  0.079479 -0.014283  0.558910 -0.035975 -0.000544 -0.034849   \n",
      "Fe     -0.002241 -0.046198 -0.001674  0.149425 -0.067090  0.010706  0.053157   \n",
      "Hg      0.010227 -0.038551  0.047852  0.073231  0.019975  0.220191 -0.008274   \n",
      "K      -0.039283  0.062019 -0.085130 -0.048160  0.505406 -0.093116  0.246650   \n",
      "La      0.033226 -0.029579  0.020437 -0.092220  0.169330 -0.165216 -0.027222   \n",
      "Mg     -0.038931 -0.054757 -0.063498 -0.025618  0.157645 -0.070230  0.071516   \n",
      "Mn     -0.005225 -0.049580 -0.035124 -0.022668 -0.030169 -0.057805  0.066016   \n",
      "Mo     -0.011544 -0.005121 -0.026103  0.031197  0.013639 -0.021269  0.000747   \n",
      "Ni      0.020658  0.029805  0.038590 -0.018424  0.302699  0.042728  0.005051   \n",
      "P      -0.016155 -0.112604 -0.027793  0.039334  0.208023 -0.128783 -0.020846   \n",
      "Pb      0.037160  0.125213  0.022451  0.714064  0.000084  0.057398 -0.107926   \n",
      "S      -0.039872 -0.186352  0.024826  0.191606 -0.001248  0.510021  0.059240   \n",
      "Sb      0.029872  0.015509  0.073369  0.092371  0.000143  0.275573 -0.018099   \n",
      "Sr      0.080678  0.358980  0.059690 -0.019500  0.376685  0.016564 -0.067130   \n",
      "Th     -0.074293 -0.086310 -0.130668 -0.122829  0.099997 -0.291940 -0.013055   \n",
      "Ti     -0.004118  0.044347 -0.026123 -0.027780  0.274392 -0.058901  0.005439   \n",
      "V       0.054925  0.120635  0.091624 -0.025457  0.406001 -0.024825 -0.026427   \n",
      "Y      -0.012589 -0.001567 -0.000417 -0.057610  0.539091 -0.025480  0.006549   \n",
      "Zn     -0.005504 -0.049843  0.008842  0.111281  0.273847  0.098589 -0.016995   \n",
      "\n",
      "              Ba        Ca        Ce  ...         P        Pb         S  \\\n",
      "Au8     0.008831 -0.048206  0.027005  ... -0.016155  0.037160 -0.039872   \n",
      "Au8_CN  0.214636 -0.234587 -0.028041  ... -0.112604  0.125213 -0.186352   \n",
      "Au     -0.080027 -0.051858  0.007717  ... -0.027793  0.022451  0.024826   \n",
      "Ag     -0.052796 -0.052954 -0.107657  ...  0.039334  0.714064  0.191606   \n",
      "Al      0.159632 -0.121744  0.188501  ...  0.208023  0.000084 -0.001248   \n",
      "As     -0.202814 -0.085501 -0.182963  ... -0.128783  0.057398  0.510021   \n",
      "B       0.070111  0.158857 -0.004182  ... -0.020846 -0.107926  0.059240   \n",
      "Ba      1.000000  0.024906  0.184862  ...  0.082718 -0.044471 -0.432407   \n",
      "Ca      0.024906  1.000000  0.028068  ...  0.282926 -0.076908 -0.000558   \n",
      "Ce      0.184862  0.028068  1.000000  ...  0.144956 -0.090424 -0.350317   \n",
      "Co     -0.099057 -0.088211 -0.044010  ... -0.019990  0.071491  0.325897   \n",
      "Cr     -0.017538 -0.142672 -0.043027  ... -0.078648  0.022874  0.077532   \n",
      "Cu     -0.063091 -0.004399 -0.049851  ...  0.018463  0.300436  0.156448   \n",
      "Fe     -0.217312  0.235060 -0.249776  ...  0.059285  0.060134  0.608698   \n",
      "Hg     -0.063266 -0.062043 -0.103591  ... -0.057385  0.025208  0.137361   \n",
      "K       0.250261  0.045940  0.243844  ...  0.052630 -0.031632 -0.108061   \n",
      "La      0.164814  0.021702  0.988604  ...  0.129463 -0.075418 -0.329703   \n",
      "Mg      0.130067  0.646283  0.040040  ...  0.115705 -0.060577 -0.132688   \n",
      "Mn      0.112227  0.401343 -0.034351  ...  0.143064 -0.046982 -0.047572   \n",
      "Mo     -0.049371  0.036201  0.033905  ...  0.020418  0.006995  0.021365   \n",
      "Ni     -0.080990 -0.051435  0.013606  ... -0.033148 -0.023272  0.236523   \n",
      "P       0.082718  0.282926  0.144956  ...  1.000000  0.111573 -0.089451   \n",
      "Pb     -0.044471 -0.076908 -0.090424  ...  0.111573  1.000000  0.131404   \n",
      "S      -0.432407 -0.000558 -0.350317  ... -0.089451  0.131404  1.000000   \n",
      "Sb     -0.126050 -0.045329 -0.176074  ... -0.036478  0.116538  0.240028   \n",
      "Sr      0.177392 -0.221840  0.113075  ... -0.051317  0.045129 -0.149188   \n",
      "Th      0.116015  0.093631  0.437186  ...  0.143892 -0.107373 -0.281216   \n",
      "Ti      0.079194  0.104467  0.056981  ...  0.065139 -0.031994 -0.125363   \n",
      "V       0.012034  0.184029  0.068784  ...  0.200654 -0.007653 -0.078806   \n",
      "Y       0.145788 -0.053926  0.233790  ...  0.164684 -0.018397 -0.184324   \n",
      "Zn     -0.061614 -0.043566 -0.011948  ...  0.100943  0.090989  0.086844   \n",
      "\n",
      "              Sb        Sr        Th        Ti         V         Y        Zn  \n",
      "Au8     0.029872  0.080678 -0.074293 -0.004118  0.054925 -0.012589 -0.005504  \n",
      "Au8_CN  0.015509  0.358980 -0.086310  0.044347  0.120635 -0.001567 -0.049843  \n",
      "Au      0.073369  0.059690 -0.130668 -0.026123  0.091624 -0.000417  0.008842  \n",
      "Ag      0.092371 -0.019500 -0.122829 -0.027780 -0.025457 -0.057610  0.111281  \n",
      "Al      0.000143  0.376685  0.099997  0.274392  0.406001  0.539091  0.273847  \n",
      "As      0.275573  0.016564 -0.291940 -0.058901 -0.024825 -0.025480  0.098589  \n",
      "B      -0.018099 -0.067130 -0.013055  0.005439 -0.026427  0.006549 -0.016995  \n",
      "Ba     -0.126050  0.177392  0.116015  0.079194  0.012034  0.145788 -0.061614  \n",
      "Ca     -0.045329 -0.221840  0.093631  0.104467  0.184029 -0.053926 -0.043566  \n",
      "Ce     -0.176074  0.113075  0.437186  0.056981  0.068784  0.233790 -0.011948  \n",
      "Co      0.012170  0.123304 -0.079790  0.018315  0.115637  0.204046  0.230209  \n",
      "Cr      0.015456  0.062102  0.089359 -0.014221  0.141390 -0.102748 -0.079780  \n",
      "Cu      0.044517 -0.026891 -0.088790  0.063610 -0.014407 -0.020143  0.069839  \n",
      "Fe      0.007251 -0.141426 -0.162083  0.040404  0.169209 -0.081678  0.007131  \n",
      "Hg      0.112294  0.043676 -0.108160 -0.026985 -0.026541  0.010281  0.021563  \n",
      "K      -0.113486  0.007284  0.233351  0.030536  0.211495  0.083376 -0.020982  \n",
      "La     -0.166773  0.098833  0.408595  0.042830  0.049761  0.214051 -0.012969  \n",
      "Mg     -0.054022 -0.029848  0.054179  0.435147  0.470906  0.108830 -0.027247  \n",
      "Mn     -0.059297 -0.155334  0.034677  0.093042  0.256861  0.103420  0.018141  \n",
      "Mo     -0.030677 -0.064977  0.056480  0.082158  0.067137  0.037354  0.016323  \n",
      "Ni      0.028661  0.202587 -0.064197  0.047200  0.150142  0.284042  0.253153  \n",
      "P      -0.036478 -0.051317  0.143892  0.065139  0.200654  0.164684  0.100943  \n",
      "Pb      0.116538  0.045129 -0.107373 -0.031994 -0.007653 -0.018397  0.090989  \n",
      "S       0.240028 -0.149188 -0.281216 -0.125363 -0.078806 -0.184324  0.086844  \n",
      "Sb      1.000000  0.053852 -0.286205 -0.006927  0.088414 -0.059169  0.067537  \n",
      "Sr      0.053852  1.000000 -0.040412  0.096284  0.203080  0.330883  0.096247  \n",
      "Th     -0.286205 -0.040412  1.000000  0.064463  0.046841  0.118021 -0.047167  \n",
      "Ti     -0.006927  0.096284  0.064463  1.000000  0.482719  0.189233  0.005412  \n",
      "V       0.088414  0.203080  0.046841  0.482719  1.000000  0.239912  0.060137  \n",
      "Y      -0.059169  0.330883  0.118021  0.189233  0.239912  1.000000  0.305052  \n",
      "Zn      0.067537  0.096247 -0.047167  0.005412  0.060137  0.305052  1.000000  \n",
      "\n",
      "[31 rows x 31 columns]\n"
     ]
    }
   ],
   "execution_count": 61
  },
  {
   "cell_type": "markdown",
   "metadata": {},
   "source": [
    "\n",
    "<h2 align=right style=\"line-height:200%;font-family:vazir;color:#0099cc\">\n",
    "قسمت دوم\n",
    "</h2>\n",
    "<div style=\"line-height:200%;font-family:vazir;font-size:medium\">\n",
    "<p style=\"direction: rtl;text-align: justify;\">\n",
    "<ul style=\"direction: rtl;text-align: justify;\">\n",
    "  <li>\n",
    "با مت‌پلات، یک شکل شامل یک صفحه‌محور بسازید و اندازه‌ی طول و عرض آن را به ترتیب برابر ۱۲ و ۱۰ اینچ قرار دهید.\n",
    "</li>\n",
    "\n",
    "  <li>\n",
    "در گام بعد یک نقشه حرارتی به کمک کتابخانه هلای آماده رسم کنید و همچنین نگاشت رنگی  مناسب و دلخواهی برای رسم خود انتخاب کنید.\n",
    "در نهایت نیز عنوان مناسب و دلخواهی برای شکل خود در نظر بگیرید\n",
    "</li>\n",
    "</ul>\n",
    "</p>\n",
    "</div>"
   ]
  },
  {
   "cell_type": "code",
   "metadata": {
    "ExecuteTime": {
     "end_time": "2024-10-18T18:25:12.821735Z",
     "start_time": "2024-10-18T18:25:12.417895Z"
    }
   },
   "source": [
    "# fig1, ax1 = #TODO\n",
    "plt.figure(figsize=(12, 10))\n",
    "heatmap = sns.heatmap(corr_matrix, annot=False, fmt=\"None\", cmap='viridis' , square=True) \n",
    "plt.title('correlation heatmap')\n",
    "plt.show()"
   ],
   "outputs": [
    {
     "data": {
      "text/plain": [
       "<Figure size 1200x1000 with 2 Axes>"
      ],
      "image/png": "[encoded data removed]"
     },
     "metadata": {},
     "output_type": "display_data"
    }
   ],
   "execution_count": 110
  },
  {
   "cell_type": "markdown",
   "metadata": {},
   "source": [
    "<div style=\"line-height:200%; font-family:vazir; font-size:medium\">\n",
    "  <p style=\"direction: rtl; text-align: justify;\">\n",
    "    با دقت و مشاهده M[i][j] را با M[j][i] مقایسه کنید. \n",
    "    (فرض کنید M همان ماتریسی است که در بخش بالا رسم کردید)\n",
    "    از این مقایسه چه نتیجه‌ای می‌گیرید؟\n",
    "  </p>\n",
    "</div>\n"
   ]
  },
  {
   "metadata": {},
   "cell_type": "markdown",
   "source": [
    "<p style=\"line-height:300%; font-family:vazir; font-size:medium; direction: rtl; text-align: justify;\">\n",
    "توضیحات خود را در این بخش بنویسید:\n",
    "</p>\n",
    "<div style=\"line-height:200%; font-family:vazir; font-size:medium\">\n",
    "\n",
    "  <p style=\"direction: rtl; text-align: justify;\">\n",
    "با مقایسه دو ماتریس متوجه می شویم که تقارن بین داده های انها که ناشی از خاصیت ذاتی همبستگی است وجود دارد این تقارن بر اساس ارتباط بین دو متغیر  یعنی همبستگی بین نقاط i و j ایجاد شده است.\n",
    "</p>\n",
    "<p  style=\"direction: rtl; text-align: justify;\">\n",
    "به عبارت دیگر، ماتریس همبستگی یک ماتریس متقارن است. یعنی:\n",
    "</p>\n",
    "<code>\n",
    "M[i][j] = M[j][i]\n",
    "</code>\n",
    "\n",
    "<p  style=\"direction: rtl; text-align: justify;\">\n",
    "تقارن موجود در ماتریس همبستگی از طریق قطر اصلی ماتریس مشخص می شود بطوریکه هر عنصر در یک سمت قطر \n",
    "ماتریس  همان مقدار در سمت دیگر قطر ماتریس نیز وجود دارد. \n",
    "</p>\n",
    "\n",
    "</div>"
   ]
  },
  {
   "cell_type": "markdown",
   "metadata": {},
   "source": [
    "\n",
    "<h2 align=right style=\"line-height:200%;font-family:vazir;color:#0099cc\">\n",
    "قسمت سوم\n",
    "</h2>\n",
    "<div style=\"line-height:200%;font-family:vazir;font-size:medium\">\n",
    "<p style=\"direction: rtl;text-align: justify;\">\n",
    "ماسک ها آرایه هایی هستند با مقادیر ۰ و ۱ مه از آنها برای    mask کردن بخش های مختلف دادههای تصویری و عکس ها استفاده میشود\n",
    "به طوری که اگر ماتریس اصلی با ماتریس ماسک خود را AND کنیم تنها بخش هایی از تصویر باقی می ماند که مقدار متناظر در آرایه ماسک دارای ارزش ۱ باشد\n",
    "در این قسمت  به علت افزونگی ناشی از اطلاعات ماتریس ماتریس دلخواهی تعریف کنید و اطلاعات ماتریس  corrolation را فقط به صورت بالا یا بایین مثلثی نمایش دهید.\n",
    "در نهایت شکل جدید را رسم کنید.\n",
    "\n",
    "</p>\n",
    "</div>"
   ]
  },
  {
   "cell_type": "code",
   "metadata": {
    "ExecuteTime": {
     "end_time": "2024-10-18T18:50:59.521684Z",
     "start_time": "2024-10-18T18:50:59.514922Z"
    }
   },
   "source": [
    "import numpy as np\n",
    "corr_matrix = np.array(corr_matrix)\n",
    "my_mask = np.triu(np.ones_like(corr_matrix, dtype=int))\n",
    "print(my_mask)"
   ],
   "outputs": [
    {
     "name": "stdout",
     "output_type": "stream",
     "text": [
      "[[1 1 1 1 1 1 1 1 1 1 1 1 1 1 1 1 1 1 1 1 1 1 1 1 1 1 1 1 1 1 1]\n",
      " [0 1 1 1 1 1 1 1 1 1 1 1 1 1 1 1 1 1 1 1 1 1 1 1 1 1 1 1 1 1 1]\n",
      " [0 0 1 1 1 1 1 1 1 1 1 1 1 1 1 1 1 1 1 1 1 1 1 1 1 1 1 1 1 1 1]\n",
      " [0 0 0 1 1 1 1 1 1 1 1 1 1 1 1 1 1 1 1 1 1 1 1 1 1 1 1 1 1 1 1]\n",
      " [0 0 0 0 1 1 1 1 1 1 1 1 1 1 1 1 1 1 1 1 1 1 1 1 1 1 1 1 1 1 1]\n",
      " [0 0 0 0 0 1 1 1 1 1 1 1 1 1 1 1 1 1 1 1 1 1 1 1 1 1 1 1 1 1 1]\n",
      " [0 0 0 0 0 0 1 1 1 1 1 1 1 1 1 1 1 1 1 1 1 1 1 1 1 1 1 1 1 1 1]\n",
      " [0 0 0 0 0 0 0 1 1 1 1 1 1 1 1 1 1 1 1 1 1 1 1 1 1 1 1 1 1 1 1]\n",
      " [0 0 0 0 0 0 0 0 1 1 1 1 1 1 1 1 1 1 1 1 1 1 1 1 1 1 1 1 1 1 1]\n",
      " [0 0 0 0 0 0 0 0 0 1 1 1 1 1 1 1 1 1 1 1 1 1 1 1 1 1 1 1 1 1 1]\n",
      " [0 0 0 0 0 0 0 0 0 0 1 1 1 1 1 1 1 1 1 1 1 1 1 1 1 1 1 1 1 1 1]\n",
      " [0 0 0 0 0 0 0 0 0 0 0 1 1 1 1 1 1 1 1 1 1 1 1 1 1 1 1 1 1 1 1]\n",
      " [0 0 0 0 0 0 0 0 0 0 0 0 1 1 1 1 1 1 1 1 1 1 1 1 1 1 1 1 1 1 1]\n",
      " [0 0 0 0 0 0 0 0 0 0 0 0 0 1 1 1 1 1 1 1 1 1 1 1 1 1 1 1 1 1 1]\n",
      " [0 0 0 0 0 0 0 0 0 0 0 0 0 0 1 1 1 1 1 1 1 1 1 1 1 1 1 1 1 1 1]\n",
      " [0 0 0 0 0 0 0 0 0 0 0 0 0 0 0 1 1 1 1 1 1 1 1 1 1 1 1 1 1 1 1]\n",
      " [0 0 0 0 0 0 0 0 0 0 0 0 0 0 0 0 1 1 1 1 1 1 1 1 1 1 1 1 1 1 1]\n",
      " [0 0 0 0 0 0 0 0 0 0 0 0 0 0 0 0 0 1 1 1 1 1 1 1 1 1 1 1 1 1 1]\n",
      " [0 0 0 0 0 0 0 0 0 0 0 0 0 0 0 0 0 0 1 1 1 1 1 1 1 1 1 1 1 1 1]\n",
      " [0 0 0 0 0 0 0 0 0 0 0 0 0 0 0 0 0 0 0 1 1 1 1 1 1 1 1 1 1 1 1]\n",
      " [0 0 0 0 0 0 0 0 0 0 0 0 0 0 0 0 0 0 0 0 1 1 1 1 1 1 1 1 1 1 1]\n",
      " [0 0 0 0 0 0 0 0 0 0 0 0 0 0 0 0 0 0 0 0 0 1 1 1 1 1 1 1 1 1 1]\n",
      " [0 0 0 0 0 0 0 0 0 0 0 0 0 0 0 0 0 0 0 0 0 0 1 1 1 1 1 1 1 1 1]\n",
      " [0 0 0 0 0 0 0 0 0 0 0 0 0 0 0 0 0 0 0 0 0 0 0 1 1 1 1 1 1 1 1]\n",
      " [0 0 0 0 0 0 0 0 0 0 0 0 0 0 0 0 0 0 0 0 0 0 0 0 1 1 1 1 1 1 1]\n",
      " [0 0 0 0 0 0 0 0 0 0 0 0 0 0 0 0 0 0 0 0 0 0 0 0 0 1 1 1 1 1 1]\n",
      " [0 0 0 0 0 0 0 0 0 0 0 0 0 0 0 0 0 0 0 0 0 0 0 0 0 0 1 1 1 1 1]\n",
      " [0 0 0 0 0 0 0 0 0 0 0 0 0 0 0 0 0 0 0 0 0 0 0 0 0 0 0 1 1 1 1]\n",
      " [0 0 0 0 0 0 0 0 0 0 0 0 0 0 0 0 0 0 0 0 0 0 0 0 0 0 0 0 1 1 1]\n",
      " [0 0 0 0 0 0 0 0 0 0 0 0 0 0 0 0 0 0 0 0 0 0 0 0 0 0 0 0 0 1 1]\n",
      " [0 0 0 0 0 0 0 0 0 0 0 0 0 0 0 0 0 0 0 0 0 0 0 0 0 0 0 0 0 0 1]]\n"
     ]
    }
   ],
   "execution_count": 118
  },
  {
   "cell_type": "markdown",
   "metadata": {},
   "source": [
    "\n",
    "<h2 align=right style=\"line-height:200%;font-family:vazir;color:#0099cc\">\n",
    "قسمت چهارم\n",
    "</h2>\n",
    "<div style=\"line-height:200%;font-family:vazir;font-size:medium\">\n",
    "<p style=\"direction: rtl;text-align: justify;\">\n",
    "<ul style=\"direction: rtl;text-align: justify;\">\n",
    "  <li>\n",
    "با مت‌پلات، یک شکل شامل یک صفحه‌محور بسازید و اندازه‌ی طول و عرض آن را به ترتیب برابر ۱۲ و ۱۰ اینچ قرار دهید.\n",
    "</li>\n",
    "\n",
    "  <li>\n",
    "با استفاده از تابع <code>heatmap</code> سیبورن، بر روی صفحه‌محوری که ساختید، یک نقشه‌ی حرارتی بکشید. ماتریس رابطه‌ای که در بخش اول به‌‌دست آمد را به آن بدهید. این‌بار از نگاشت رنگ <code>jet</code> استفاده کنید.\n",
    "\n",
    "</li>\n",
    "\n",
    "  <li>\n",
    "ماسکی که در بخش قبل ساختید را در آرگومان <code>mask</code> به تابع <code>heatmap</code> بدهید تا فقط قسمت پایینی نقشه حرارتی رسم شود. خانه‌هایی که مقدار <code>mask</code> آن‌ها برابر یک می‌باشد، رسم نمی‌شوند.\n",
    "\n",
    "</li>\n",
    "\n",
    "  <li>\n",
    "عنوان نمودار را برابر <code>correlation heatmap lower triangular</code> قرار دهید.\n",
    "</li>\n",
    "\n",
    "</ul>\n",
    "</p>\n",
    "</div>"
   ]
  },
  {
   "cell_type": "code",
   "metadata": {
    "ExecuteTime": {
     "end_time": "2024-10-18T18:51:12.567409Z",
     "start_time": "2024-10-18T18:51:12.366111Z"
    }
   },
   "source": [
    "plt.figure(figsize=(12, 10))\n",
    "plt.imshow(corr_matrix * my_mask, cmap='viridis', interpolation='nearest')\n",
    "plt.colorbar()\n",
    "plt.show()\n"
   ],
   "outputs": [
    {
     "data": {
      "text/plain": [
       "<Figure size 1200x1000 with 2 Axes>"
      ],
      "image/png": "[encoded data removed]"
     },
     "metadata": {},
     "output_type": "display_data"
    }
   ],
   "execution_count": 119
  }
 ],
 "metadata": {
  "colab": {
   "collapsed_sections": [],
   "name": "mostafa.ipynb",
   "provenance": []
  },
  "kernelspec": {
   "display_name": "Python 3 (ipykernel)",
   "language": "python",
   "name": "python3"
  },
  "language_info": {
   "codemirror_mode": {
    "name": "ipython",
    "version": 3
   },
   "file_extension": ".py",
   "mimetype": "text/x-python",
   "name": "python",
   "nbconvert_exporter": "python",
   "pygments_lexer": "ipython3",
   "version": "3.11.5"
  },
  "vscode": {
   "interpreter": {
    "hash": "44e7e1b8fa2096bd5707ed7fd18b1724a2db25f4c565a7673f8b6e7bfc49d25d"
   }
  }
 },
 "nbformat": 4,
 "nbformat_minor": 4
}
